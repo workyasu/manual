{
 "cells": [
  {
   "cell_type": "markdown",
   "metadata": {},
   "source": [
    "## AWS CLIのインストール"
   ]
  },
  {
   "cell_type": "code",
   "execution_count": 4,
   "metadata": {
    "collapsed": false
   },
   "outputs": [
    {
     "name": "stdout",
     "output_type": "stream",
     "text": [
      "Collecting awscli\n",
      "  Downloading awscli-1.11.125-py2.py3-none-any.whl (1.2MB)\n",
      "\u001b[K    100% |████████████████████████████████| 1.2MB 461kB/s ta 0:00:01\n",
      "\u001b[?25hRequirement already satisfied: colorama<=0.3.7,>=0.2.5 in ./.pyenv/versions/anaconda3-4.3.1/lib/python3.6/site-packages (from awscli)\n",
      "Collecting botocore==1.5.88 (from awscli)\n",
      "  Downloading botocore-1.5.88-py2.py3-none-any.whl (3.6MB)\n",
      "\u001b[K    100% |████████████████████████████████| 3.6MB 176kB/s ta 0:00:01\n",
      "\u001b[?25hCollecting rsa<=3.5.0,>=3.1.2 (from awscli)\n",
      "  Using cached rsa-3.4.2-py2.py3-none-any.whl\n",
      "Requirement already satisfied: PyYAML<=3.12,>=3.10 in ./.pyenv/versions/anaconda3-4.3.1/lib/python3.6/site-packages (from awscli)\n",
      "Requirement already satisfied: docutils>=0.10 in ./.pyenv/versions/anaconda3-4.3.1/lib/python3.6/site-packages (from awscli)\n",
      "Collecting s3transfer<0.2.0,>=0.1.9 (from awscli)\n",
      "  Using cached s3transfer-0.1.10-py2.py3-none-any.whl\n",
      "Collecting jmespath<1.0.0,>=0.7.1 (from botocore==1.5.88->awscli)\n",
      "  Using cached jmespath-0.9.3-py2.py3-none-any.whl\n",
      "Requirement already satisfied: python-dateutil<3.0.0,>=2.1 in ./.pyenv/versions/anaconda3-4.3.1/lib/python3.6/site-packages (from botocore==1.5.88->awscli)\n",
      "Requirement already satisfied: pyasn1>=0.1.3 in ./.pyenv/versions/anaconda3-4.3.1/lib/python3.6/site-packages (from rsa<=3.5.0,>=3.1.2->awscli)\n",
      "Requirement already satisfied: six>=1.5 in ./.pyenv/versions/anaconda3-4.3.1/lib/python3.6/site-packages (from python-dateutil<3.0.0,>=2.1->botocore==1.5.88->awscli)\n",
      "Installing collected packages: jmespath, botocore, rsa, s3transfer, awscli\n",
      "Successfully installed awscli-1.11.125 botocore-1.5.88 jmespath-0.9.3 rsa-3.4.2 s3transfer-0.1.10\n"
     ]
    }
   ],
   "source": [
    "pip install awscli"
   ]
  },
  {
   "cell_type": "markdown",
   "metadata": {},
   "source": [
    "## AWSがインストールされていることを確認"
   ]
  },
  {
   "cell_type": "code",
   "execution_count": 2,
   "metadata": {
    "collapsed": false
   },
   "outputs": [
    {
     "name": "stdout",
     "output_type": "stream",
     "text": [
      "/Users/yasu/.pyenv/versions/anaconda3-4.3.1/bin/aws\n"
     ]
    }
   ],
   "source": [
    "which aws"
   ]
  },
  {
   "cell_type": "markdown",
   "metadata": {},
   "source": [
    "## AWS CLIの動作確認"
   ]
  },
  {
   "cell_type": "code",
   "execution_count": 1,
   "metadata": {
    "collapsed": false
   },
   "outputs": [
    {
     "name": "stdout",
     "output_type": "stream",
     "text": [
      "2017-07-13 23:37:37 aws-athena-query-results-527271605474-ap-northeast-1\n",
      "2017-06-08 16:35:12 kddi-goa.527271605474.cloudtrail\n",
      "2017-06-08 16:35:10 kddi-goa.527271605474.cloudtrail-s3log\n",
      "2017-06-08 15:55:35 kddi-goa.527271605474.goa-security\n",
      "2017-07-20 11:03:05 lupin-analytics-dev-athena\n",
      "2017-07-26 00:40:49 lupin-analytics-dev.athena-result\n",
      "2017-07-23 15:42:14 lupin-analytics-dev.chatdata\n"
     ]
    }
   ],
   "source": [
    "aws s3 ls"
   ]
  }
 ],
 "metadata": {
  "kernelspec": {
   "display_name": "Bash",
   "language": "bash",
   "name": "bash"
  },
  "language_info": {
   "codemirror_mode": "shell",
   "file_extension": ".sh",
   "mimetype": "text/x-sh",
   "name": "bash"
  }
 },
 "nbformat": 4,
 "nbformat_minor": 2
}
